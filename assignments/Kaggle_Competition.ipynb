{
 "cells": [
  {
   "cell_type": "code",
   "execution_count": null,
   "metadata": {},
   "outputs": [],
   "source": [
    "import pandas as pd\n",
    "import numpy as np\n",
    "import matplotlib.pyplot as plt\n",
    "pd.set_option('display.max_columns', None)"
   ]
  },
  {
   "cell_type": "markdown",
   "metadata": {},
   "source": [
    "### CSCI 447 Fall 2023 Kaggle Competition"
   ]
  },
  {
   "cell_type": "code",
   "execution_count": null,
   "metadata": {},
   "outputs": [],
   "source": [
    "train = pd.read_csv('data/kaggle_train.csv')\n",
    "test = pd.read_csv('data/kaggle_test.csv')\n",
    "# example = pd.read_csv('data/kaggle_example_submission.csv')"
   ]
  },
  {
   "cell_type": "code",
   "execution_count": null,
   "metadata": {},
   "outputs": [],
   "source": [
    "train"
   ]
  },
  {
   "cell_type": "code",
   "execution_count": null,
   "metadata": {},
   "outputs": [],
   "source": [
    "# show feature distributions\n",
    "train.hist(figsize=(20,20))\n",
    "plt.show()"
   ]
  },
  {
   "cell_type": "code",
   "execution_count": null,
   "metadata": {},
   "outputs": [],
   "source": [
    "# # scale features\n",
    "# from sklearn.preprocessing import StandardScaler\n",
    "# scaler = StandardScaler()\n",
    "# train_scaled = scaler.fit_transform(train.drop(['id', 'target'], axis=1))\n",
    "# test_scaled = scaler.fit_transform(test.drop(['id'], axis=1))\n",
    "\n",
    "# # add target and id back to train, id back to test\n",
    "# train_scaled = np.concatenate((train_scaled, train[['target']].values), axis=1)\n",
    "# train_scaled = np.concatenate((train_scaled, train[['id']].values), axis=1)\n",
    "# test_scaled = np.concatenate((test_scaled, test[['id']].values), axis=1)"
   ]
  },
  {
   "cell_type": "code",
   "execution_count": null,
   "metadata": {},
   "outputs": [],
   "source": [
    "# train_scaled = pd.DataFrame(train_scaled)\n",
    "# test_scaled = pd.DataFrame(test_scaled)\n",
    "# train_scaled.describe()"
   ]
  },
  {
   "cell_type": "code",
   "execution_count": null,
   "metadata": {},
   "outputs": [],
   "source": [
    "# pd.DataFrame(train_scaled)"
   ]
  },
  {
   "cell_type": "code",
   "execution_count": null,
   "metadata": {},
   "outputs": [],
   "source": [
    "# # show features that correlate most with target\n",
    "# train.corr()['target'].sort_values(ascending=False)"
   ]
  },
  {
   "cell_type": "markdown",
   "metadata": {},
   "source": [
    "---"
   ]
  },
  {
   "cell_type": "code",
   "execution_count": null,
   "metadata": {},
   "outputs": [],
   "source": [
    "# # Remove features that correlate weakly with target (run this to do that)\n",
    "# train_correlated = train.copy()\n",
    "# train_correlated = train_correlated.drop(['f14', 'f13','f11'], axis=1)\n",
    "\n",
    "# train = train_correlated"
   ]
  },
  {
   "cell_type": "code",
   "execution_count": null,
   "metadata": {},
   "outputs": [],
   "source": [
    "# from xgboost import XGBRegressor\n",
    "from sklearn.model_selection import train_test_split\n",
    "from sklearn.metrics import mean_squared_error\n",
    "from sklearn.model_selection import GridSearchCV"
   ]
  },
  {
   "cell_type": "markdown",
   "metadata": {},
   "source": [
    "#### XGBoost:"
   ]
  },
  {
   "cell_type": "code",
   "execution_count": null,
   "metadata": {},
   "outputs": [],
   "source": [
    "# split data into train and test sets\n",
    "X = train.drop(['target', 'id'], axis=1)\n",
    "y = train['target']\n",
    "X_train, X_test, y_train, y_test = train_test_split(X, y, test_size=0.4, random_state=42)"
   ]
  },
  {
   "cell_type": "code",
   "execution_count": null,
   "metadata": {},
   "outputs": [],
   "source": [
    "xgb = XGBRegressor(random_state=42)\n",
<<<<<<< HEAD
    "xgb.fit(X_train, y_train)\n",
    "y_pred = xgb.predict(X_test)\n",
    "mse = mean_squared_error(y_test, y_pred)\n",
=======
    "xgb.fit(X_train_reduced, y_train_reduced)\n",
    "y_pred = xgb.predict(X_test_reduced)\n",
    "mse = mean_squared_error(y_test_reduced, y_pred)\n",
>>>>>>> e5272b5e5b68d8ee91df80962d20ed1d896d1f0d
    "print('RMSE:', np.sqrt(mse))"
   ]
  },
  {
   "cell_type": "code",
   "execution_count": null,
   "metadata": {},
   "outputs": [],
   "source": [
    "# # grid search on xgb\n",
    "# from sklearn.model_selection import GridSearchCV, RandomizedSearchCV\n",
    "\n",
    "# params = {\n",
    "#     'n_estimators': [100, 200, 300, 400, 500],\n",
    "#     'learning_rate': [0.01, 0.1, 0.2],\n",
    "#     'max_depth': [1, 2, 3, 4, 5],\n",
    "#     'min_child_weight': [1, 2, 3],\n",
    "#     'gamma': [0, 0.1, 0.2],\n",
    "#     'subsample': [0.5, 0.75, 1],\n",
    "#     'colsample_bytree': [0.5, 0.75, 1],\n",
    "#     'reg_alpha': [0, 0.1, 0.2],\n",
    "#     'reg_lambda': [0, 0.1, 0.2]\n",
    "# }\n",
    "# grid = GridSearchCV(estimator=xgb, param_grid=params, scoring='neg_mean_squared_error', cv=5, verbose=1)\n",
    "# # grid = RandomizedSearchCV(estimator=xgb, param_distributions=params, scoring='neg_mean_squared_error', cv=5, verbose=1)\n",
    "# grid.fit(X_train, y_train)\n",
    "# print(grid.best_params_)\n",
    "# print(grid.best_score_)\n",
    "# best_xgb = grid.best_estimator_\n",
    "# y_pred = best_xgb.predict(X_test)\n",
    "# mse = mean_squared_error(y_test, y_pred)\n",
    "# print('MSE:', mse)"
   ]
  },
  {
   "cell_type": "code",
   "execution_count": null,
   "metadata": {},
   "outputs": [],
   "source": [
    "xgb_best_so_far = XGBRegressor(n_estimators=500, learning_rate=0.2, max_depth=1, min_child_weight=1, gamma=0.1, random_state=42)\n",
<<<<<<< HEAD
    "xgb_best_so_far.fit(X_train, y_train)\n",
    "y_pred = xgb_best_so_far.predict(X_test)\n",
    "mse = mean_squared_error(y_test, y_pred)\n",
=======
    "xgb_best_so_far.fit(X_train_reduced, y_train_reduced)\n",
    "y_pred = xgb_best_so_far.predict(X_test_reduced)\n",
    "mse = mean_squared_error(y_test_reduced, y_pred)\n",
>>>>>>> e5272b5e5b68d8ee91df80962d20ed1d896d1f0d
    "print('RMSE:', np.sqrt(mse))"
   ]
  },
  {
   "cell_type": "markdown",
   "metadata": {},
   "source": [
    "#### FEATURE ENGINEERING:"
   ]
  },
  {
   "cell_type": "code",
   "execution_count": null,
   "metadata": {},
   "outputs": [],
   "source": [
    "# find most important features\n",
    "from xgboost import plot_importance\n",
    "plot_importance(xgb_best_so_far)\n",
    "plt.show()"
   ]
  },
  {
   "cell_type": "code",
   "execution_count": null,
   "metadata": {},
   "outputs": [],
   "source": [
    "train_reduced = train[['f4','f5','f1','f3','target']]\n",
    "X = train_reduced.drop(['target'], axis=1)\n",
    "y = train_reduced['target']\n",
    "X_train_reduced, X_test_reduced, y_train_reduced, y_test_reduced = train_test_split(X, y, test_size=0.4, random_state=42)\n",
    "xgb_best_so_far.fit(X_train_reduced, y_train_reduced)\n",
    "y_pred = xgb_best_so_far.predict(X_test_reduced)\n",
    "mse = mean_squared_error(y_test_reduced, y_pred)\n",
    "print('RMSE:', np.sqrt(mse))"
   ]
  },
  {
   "cell_type": "code",
   "execution_count": null,
   "metadata": {},
   "outputs": [],
   "source": [
    "# plot predictions vs actual\n",
    "plt.scatter(y_test_reduced, y_pred)\n",
    "plt.xlabel('Actual')\n",
    "plt.ylabel('Predicted')\n",
    "plt.show()"
   ]
  },
  {
   "cell_type": "code",
   "execution_count": null,
   "metadata": {},
   "outputs": [],
   "source": [
    "# predict test set and save to csv with ID, target\n",
    "test_reduced = test[['id', 'f4','f5','f1','f3']]\n",
    "test_reduced = test_reduced.drop(['id'], axis=1)\n",
    "predictions = xgb_best_so_far.predict(test_reduced)\n",
    "predictions = pd.DataFrame(predictions, columns=['target'])\n",
    "predictions = pd.concat([test, predictions], axis=1)\n",
    "# predictions = predictions[['target']]\n",
    "predictions = predictions[['id', 'target']]\n",
    "predictions"
   ]
  },
  {
   "cell_type": "code",
   "execution_count": null,
   "metadata": {},
   "outputs": [],
   "source": [
    "# predictions.to_csv('data/kaggle_submission_bova_2.csv', index=False)"
   ]
  },
  {
   "cell_type": "markdown",
   "metadata": {},
   "source": [
    "---"
   ]
  },
  {
   "cell_type": "markdown",
   "metadata": {},
   "source": [
    "## Neural Network"
   ]
  },
  {
   "cell_type": "code",
   "execution_count": null,
   "metadata": {},
   "outputs": [],
   "source": [
    "# # tensorflow regression neural network\n",
    "# import tensorflow as tf\n",
    "# from tensorflow import keras\n",
    "# from tensorflow.keras import layers\n",
    "# from tensorflow.keras import regularizers\n",
    "\n",
    "# # split data into train and test sets\n",
    "# X = train.drop(['target', 'id'], axis=1)\n",
    "# y = train['target']\n",
    "# X_train, X_test, y_train, y_test = train_test_split(X, y, test_size=0.4, random_state=42)\n",
    "\n",
    "# model = keras.Sequential([\n",
    "#     layers.Dense(64, activation='relu', kernel_regularizer=regularizers.l2(0.001)),\n",
    "#     layers.Dense(64, activation='relu', kernel_regularizer=regularizers.l2(0.001)),\n",
    "#     layers.Dense(64, activation='relu', kernel_regularizer=regularizers.l2(0.001)),\n",
    "#     layers.Dense(1)\n",
    "# ])\n",
    "\n",
    "# model.compile(optimizer='adam', loss='mse', metrics=['mae'])\n",
    "# history = model.fit(X_train, y_train, validation_split=0.2, epochs=100, verbose=1)\n",
    "\n",
    "# # plot mse\n",
    "# plt.plot(history.history['loss'])\n",
    "# plt.plot(history.history['val_loss'])\n",
    "# plt.title('Model MSE')\n",
    "# plt.ylabel('MSE')\n",
    "# plt.xlabel('Epoch')\n",
    "# plt.legend(['Train', 'Validation'], loc='upper right')\n",
    "# plt.show()"
   ]
  },
  {
   "cell_type": "code",
   "execution_count": null,
   "metadata": {},
   "outputs": [],
   "source": [
    "predictions"
   ]
  },
  {
   "cell_type": "markdown",
   "metadata": {},
   "source": [
    "---"
   ]
  },
  {
   "cell_type": "code",
   "execution_count": null,
   "metadata": {},
   "outputs": [],
   "source": [
    "import autosklearn.regression"
   ]
  },
  {
   "cell_type": "code",
   "execution_count": null,
   "metadata": {},
   "outputs": [],
   "source": [
    "# autosklearn\n",
    "automl = autosklearn.regression.AutoSklearnRegressor(\n",
    "    time_left_for_this_task=3600,\n",
    "    per_run_time_limit=360,\n",
    "    tmp_folder='data/tmp/autosklearn_regression_tmp',\n",
    "    resampling_strategy='cv',\n",
    "    resampling_strategy_arguments={'folds': 5}\n",
    ")\n",
    "automl.fit(X_train_reduced, y_train_reduced)"
   ]
  }
 ],
 "metadata": {
  "kernelspec": {
   "display_name": "aispace",
   "language": "python",
   "name": "python3"
  },
  "language_info": {
   "codemirror_mode": {
    "name": "ipython",
    "version": 3
   },
   "file_extension": ".py",
   "mimetype": "text/x-python",
   "name": "python",
   "nbconvert_exporter": "python",
   "pygments_lexer": "ipython3",
   "version": "3.9.18"
  }
 },
 "nbformat": 4,
 "nbformat_minor": 2
}
