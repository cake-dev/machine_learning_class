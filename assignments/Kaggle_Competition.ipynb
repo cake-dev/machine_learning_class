{
 "cells": [
  {
   "cell_type": "code",
   "execution_count": 2,
   "metadata": {},
   "outputs": [],
   "source": [
    "import pandas as pd\n",
    "import numpy as np\n",
    "import matplotlib.pyplot as plt\n",
    "pd.set_option('display.max_columns', None)"
   ]
  },
  {
   "cell_type": "markdown",
   "metadata": {},
   "source": [
    "### CSCI 447 Fall 2023 Kaggle Competition"
   ]
  },
  {
   "cell_type": "code",
   "execution_count": 19,
   "metadata": {},
   "outputs": [],
   "source": [
    "train = pd.read_csv('data/kaggle_train.csv')\n",
    "test = pd.read_csv('data/kaggle_test.csv')\n",
    "# example = pd.read_csv('data/kaggle_example_submission.csv')"
   ]
  },
  {
   "cell_type": "code",
   "execution_count": null,
   "metadata": {},
   "outputs": [],
   "source": [
    "train"
   ]
  },
  {
   "cell_type": "code",
   "execution_count": null,
   "metadata": {},
   "outputs": [],
   "source": [
    "# show features that correlate most with target\n",
    "train.corr()['target'].sort_values(ascending=False)"
   ]
  },
  {
   "cell_type": "markdown",
   "metadata": {},
   "source": [
    "---"
   ]
  },
  {
   "cell_type": "code",
   "execution_count": null,
   "metadata": {},
   "outputs": [],
   "source": [
    "# # Remove features that correlate weakly with target (run this to do that)\n",
    "# train_correlated = train.copy()\n",
    "# train_correlated = train_correlated.drop(['f14', 'f13','f11'], axis=1)\n",
    "\n",
    "# train = train_correlated"
   ]
  },
  {
   "cell_type": "code",
   "execution_count": 20,
   "metadata": {},
   "outputs": [],
   "source": [
    "from xgboost import XGBRegressor\n",
    "from sklearn.model_selection import train_test_split\n",
    "from sklearn.metrics import mean_squared_error\n",
    "from sklearn.model_selection import GridSearchCV"
   ]
  },
  {
   "cell_type": "code",
   "execution_count": 21,
   "metadata": {},
   "outputs": [],
   "source": [
    "# get column names to re add after scaling\n",
    "train_cols = train.columns\n",
    "test_cols = test.columns\n",
    "\n",
    "# get target col to re add after scaling\n",
    "train_target = train['target']\n",
    "\n",
    "# get id col to re add after scaling\n",
    "train_id = train['id']\n",
    "test_id = test['id']"
   ]
  },
  {
   "cell_type": "code",
   "execution_count": 22,
   "metadata": {},
   "outputs": [
    {
     "data": {
      "text/plain": [
       "array([[-1.72772608, -0.68405502, -0.85383064, ..., -1.97057171,\n",
       "        -1.30887552, -1.62715646],\n",
       "       [-1.7190658 ,  1.22919767,  0.98745524, ..., -0.73044123,\n",
       "         0.52500482,  0.85025984],\n",
       "       [-1.71040552, -0.79846207, -0.32310424, ...,  0.06533439,\n",
       "         0.16182802,  0.37761826],\n",
       "       ...,\n",
       "       [ 1.71040552, -1.28426824,  0.39348869, ...,  0.81660053,\n",
       "        -0.47386709,  0.05673068],\n",
       "       [ 1.7190658 , -0.19965149,  0.1313386 , ...,  0.08639641,\n",
       "         0.45044163,  1.17357355],\n",
       "       [ 1.72772608, -1.80418649, -1.8107233 , ..., -0.12728563,\n",
       "         0.1111803 ,  0.01364026]])"
      ]
     },
     "execution_count": 22,
     "metadata": {},
     "output_type": "execute_result"
    }
   ],
   "source": [
    "# standardize data\n",
    "from sklearn.preprocessing import StandardScaler\n",
    "scaler1 = StandardScaler()\n",
    "scaler2 = StandardScaler()\n",
    "train = scaler1.fit_transform(train)\n",
    "test = scaler2.fit_transform(test)\n",
    "train"
   ]
  },
  {
   "cell_type": "code",
   "execution_count": 24,
   "metadata": {},
   "outputs": [
    {
     "data": {
      "text/html": [
       "<div>\n",
       "<style scoped>\n",
       "    .dataframe tbody tr th:only-of-type {\n",
       "        vertical-align: middle;\n",
       "    }\n",
       "\n",
       "    .dataframe tbody tr th {\n",
       "        vertical-align: top;\n",
       "    }\n",
       "\n",
       "    .dataframe thead th {\n",
       "        text-align: right;\n",
       "    }\n",
       "</style>\n",
       "<table border=\"1\" class=\"dataframe\">\n",
       "  <thead>\n",
       "    <tr style=\"text-align: right;\">\n",
       "      <th></th>\n",
       "      <th>id</th>\n",
       "      <th>f1</th>\n",
       "      <th>f2</th>\n",
       "      <th>f3</th>\n",
       "      <th>f4</th>\n",
       "      <th>f5</th>\n",
       "      <th>f6</th>\n",
       "      <th>f7</th>\n",
       "      <th>f8</th>\n",
       "      <th>f9</th>\n",
       "      <th>f10</th>\n",
       "      <th>f11</th>\n",
       "      <th>f12</th>\n",
       "      <th>f13</th>\n",
       "      <th>f14</th>\n",
       "      <th>f15</th>\n",
       "      <th>f16</th>\n",
       "      <th>f17</th>\n",
       "      <th>f18</th>\n",
       "      <th>f19</th>\n",
       "      <th>f20</th>\n",
       "      <th>target</th>\n",
       "    </tr>\n",
       "  </thead>\n",
       "  <tbody>\n",
       "    <tr>\n",
       "      <th>count</th>\n",
       "      <td>400.000000</td>\n",
       "      <td>4.000000e+02</td>\n",
       "      <td>4.000000e+02</td>\n",
       "      <td>4.000000e+02</td>\n",
       "      <td>4.000000e+02</td>\n",
       "      <td>4.000000e+02</td>\n",
       "      <td>4.000000e+02</td>\n",
       "      <td>4.000000e+02</td>\n",
       "      <td>4.000000e+02</td>\n",
       "      <td>4.000000e+02</td>\n",
       "      <td>4.000000e+02</td>\n",
       "      <td>4.000000e+02</td>\n",
       "      <td>4.000000e+02</td>\n",
       "      <td>4.000000e+02</td>\n",
       "      <td>4.000000e+02</td>\n",
       "      <td>4.000000e+02</td>\n",
       "      <td>4.000000e+02</td>\n",
       "      <td>4.000000e+02</td>\n",
       "      <td>4.000000e+02</td>\n",
       "      <td>4.000000e+02</td>\n",
       "      <td>4.000000e+02</td>\n",
       "      <td>400.000000</td>\n",
       "    </tr>\n",
       "    <tr>\n",
       "      <th>mean</th>\n",
       "      <td>200.500000</td>\n",
       "      <td>-2.442491e-16</td>\n",
       "      <td>-2.664535e-17</td>\n",
       "      <td>-9.325873e-17</td>\n",
       "      <td>1.776357e-17</td>\n",
       "      <td>1.441891e-13</td>\n",
       "      <td>3.446132e-15</td>\n",
       "      <td>1.154632e-16</td>\n",
       "      <td>7.993606e-17</td>\n",
       "      <td>2.131628e-16</td>\n",
       "      <td>-3.996803e-17</td>\n",
       "      <td>-2.775558e-17</td>\n",
       "      <td>3.552714e-17</td>\n",
       "      <td>4.440892e-17</td>\n",
       "      <td>-1.776357e-17</td>\n",
       "      <td>-3.552714e-16</td>\n",
       "      <td>2.664535e-17</td>\n",
       "      <td>2.109424e-16</td>\n",
       "      <td>-3.885781e-17</td>\n",
       "      <td>3.286260e-16</td>\n",
       "      <td>-1.998401e-17</td>\n",
       "      <td>-1.130048</td>\n",
       "    </tr>\n",
       "    <tr>\n",
       "      <th>std</th>\n",
       "      <td>115.614301</td>\n",
       "      <td>1.001252e+00</td>\n",
       "      <td>1.001252e+00</td>\n",
       "      <td>1.001252e+00</td>\n",
       "      <td>1.001252e+00</td>\n",
       "      <td>1.001252e+00</td>\n",
       "      <td>1.001252e+00</td>\n",
       "      <td>1.001252e+00</td>\n",
       "      <td>1.001252e+00</td>\n",
       "      <td>1.001252e+00</td>\n",
       "      <td>1.001252e+00</td>\n",
       "      <td>1.001252e+00</td>\n",
       "      <td>1.001252e+00</td>\n",
       "      <td>1.001252e+00</td>\n",
       "      <td>1.001252e+00</td>\n",
       "      <td>1.001252e+00</td>\n",
       "      <td>1.001252e+00</td>\n",
       "      <td>1.001252e+00</td>\n",
       "      <td>1.001252e+00</td>\n",
       "      <td>1.001252e+00</td>\n",
       "      <td>1.001252e+00</td>\n",
       "      <td>10.848223</td>\n",
       "    </tr>\n",
       "    <tr>\n",
       "      <th>min</th>\n",
       "      <td>1.000000</td>\n",
       "      <td>-2.864914e+00</td>\n",
       "      <td>-2.912312e+00</td>\n",
       "      <td>-3.177173e+00</td>\n",
       "      <td>-2.873320e+00</td>\n",
       "      <td>-2.676293e+00</td>\n",
       "      <td>-2.724290e+00</td>\n",
       "      <td>-2.992946e+00</td>\n",
       "      <td>-3.016102e+00</td>\n",
       "      <td>-2.969560e+00</td>\n",
       "      <td>-2.688761e+00</td>\n",
       "      <td>-2.638690e+00</td>\n",
       "      <td>-3.057853e+00</td>\n",
       "      <td>-2.630710e+00</td>\n",
       "      <td>-3.277049e+00</td>\n",
       "      <td>-3.110809e+00</td>\n",
       "      <td>-2.835288e+00</td>\n",
       "      <td>-2.782867e+00</td>\n",
       "      <td>-3.640569e+00</td>\n",
       "      <td>-3.250875e+00</td>\n",
       "      <td>-2.795966e+00</td>\n",
       "      <td>-56.422845</td>\n",
       "    </tr>\n",
       "    <tr>\n",
       "      <th>25%</th>\n",
       "      <td>100.750000</td>\n",
       "      <td>-6.232837e-01</td>\n",
       "      <td>-6.700640e-01</td>\n",
       "      <td>-6.530525e-01</td>\n",
       "      <td>-6.908133e-01</td>\n",
       "      <td>-6.433004e-01</td>\n",
       "      <td>-6.785341e-01</td>\n",
       "      <td>-6.749836e-01</td>\n",
       "      <td>-7.120203e-01</td>\n",
       "      <td>-6.781689e-01</td>\n",
       "      <td>-6.638184e-01</td>\n",
       "      <td>-6.957960e-01</td>\n",
       "      <td>-6.316507e-01</td>\n",
       "      <td>-6.894649e-01</td>\n",
       "      <td>-6.913151e-01</td>\n",
       "      <td>-6.466926e-01</td>\n",
       "      <td>-7.738073e-01</td>\n",
       "      <td>-6.584388e-01</td>\n",
       "      <td>-6.680523e-01</td>\n",
       "      <td>-6.817377e-01</td>\n",
       "      <td>-7.561603e-01</td>\n",
       "      <td>-5.335921</td>\n",
       "    </tr>\n",
       "    <tr>\n",
       "      <th>50%</th>\n",
       "      <td>200.500000</td>\n",
       "      <td>8.663099e-02</td>\n",
       "      <td>-1.647919e-04</td>\n",
       "      <td>2.341005e-02</td>\n",
       "      <td>-8.385286e-02</td>\n",
       "      <td>3.327371e-02</td>\n",
       "      <td>-4.316262e-02</td>\n",
       "      <td>-3.071142e-02</td>\n",
       "      <td>4.537892e-02</td>\n",
       "      <td>-6.650145e-02</td>\n",
       "      <td>-8.217790e-03</td>\n",
       "      <td>-4.224086e-02</td>\n",
       "      <td>2.707950e-02</td>\n",
       "      <td>2.211142e-02</td>\n",
       "      <td>1.832381e-02</td>\n",
       "      <td>-7.695655e-02</td>\n",
       "      <td>-3.701459e-02</td>\n",
       "      <td>1.887805e-02</td>\n",
       "      <td>-5.778016e-03</td>\n",
       "      <td>4.212782e-02</td>\n",
       "      <td>-3.483378e-02</td>\n",
       "      <td>-0.510613</td>\n",
       "    </tr>\n",
       "    <tr>\n",
       "      <th>75%</th>\n",
       "      <td>300.250000</td>\n",
       "      <td>6.252322e-01</td>\n",
       "      <td>6.858950e-01</td>\n",
       "      <td>6.559679e-01</td>\n",
       "      <td>6.646559e-01</td>\n",
       "      <td>7.166966e-01</td>\n",
       "      <td>7.049591e-01</td>\n",
       "      <td>6.514258e-01</td>\n",
       "      <td>7.187826e-01</td>\n",
       "      <td>6.918194e-01</td>\n",
       "      <td>6.877310e-01</td>\n",
       "      <td>6.875754e-01</td>\n",
       "      <td>7.003019e-01</td>\n",
       "      <td>6.038212e-01</td>\n",
       "      <td>7.098891e-01</td>\n",
       "      <td>6.905250e-01</td>\n",
       "      <td>7.293493e-01</td>\n",
       "      <td>6.730331e-01</td>\n",
       "      <td>6.780294e-01</td>\n",
       "      <td>6.997966e-01</td>\n",
       "      <td>6.915907e-01</td>\n",
       "      <td>3.934202</td>\n",
       "    </tr>\n",
       "    <tr>\n",
       "      <th>max</th>\n",
       "      <td>400.000000</td>\n",
       "      <td>2.950914e+00</td>\n",
       "      <td>2.518933e+00</td>\n",
       "      <td>2.762405e+00</td>\n",
       "      <td>2.685094e+00</td>\n",
       "      <td>3.038023e+00</td>\n",
       "      <td>2.621608e+00</td>\n",
       "      <td>2.847311e+00</td>\n",
       "      <td>2.739400e+00</td>\n",
       "      <td>2.825830e+00</td>\n",
       "      <td>3.399690e+00</td>\n",
       "      <td>2.843222e+00</td>\n",
       "      <td>2.868617e+00</td>\n",
       "      <td>3.021595e+00</td>\n",
       "      <td>2.532323e+00</td>\n",
       "      <td>2.753429e+00</td>\n",
       "      <td>3.098662e+00</td>\n",
       "      <td>3.140459e+00</td>\n",
       "      <td>2.996974e+00</td>\n",
       "      <td>2.464176e+00</td>\n",
       "      <td>2.697927e+00</td>\n",
       "      <td>36.101080</td>\n",
       "    </tr>\n",
       "  </tbody>\n",
       "</table>\n",
       "</div>"
      ],
      "text/plain": [
       "               id            f1            f2            f3            f4  \\\n",
       "count  400.000000  4.000000e+02  4.000000e+02  4.000000e+02  4.000000e+02   \n",
       "mean   200.500000 -2.442491e-16 -2.664535e-17 -9.325873e-17  1.776357e-17   \n",
       "std    115.614301  1.001252e+00  1.001252e+00  1.001252e+00  1.001252e+00   \n",
       "min      1.000000 -2.864914e+00 -2.912312e+00 -3.177173e+00 -2.873320e+00   \n",
       "25%    100.750000 -6.232837e-01 -6.700640e-01 -6.530525e-01 -6.908133e-01   \n",
       "50%    200.500000  8.663099e-02 -1.647919e-04  2.341005e-02 -8.385286e-02   \n",
       "75%    300.250000  6.252322e-01  6.858950e-01  6.559679e-01  6.646559e-01   \n",
       "max    400.000000  2.950914e+00  2.518933e+00  2.762405e+00  2.685094e+00   \n",
       "\n",
       "                 f5            f6            f7            f8            f9  \\\n",
       "count  4.000000e+02  4.000000e+02  4.000000e+02  4.000000e+02  4.000000e+02   \n",
       "mean   1.441891e-13  3.446132e-15  1.154632e-16  7.993606e-17  2.131628e-16   \n",
       "std    1.001252e+00  1.001252e+00  1.001252e+00  1.001252e+00  1.001252e+00   \n",
       "min   -2.676293e+00 -2.724290e+00 -2.992946e+00 -3.016102e+00 -2.969560e+00   \n",
       "25%   -6.433004e-01 -6.785341e-01 -6.749836e-01 -7.120203e-01 -6.781689e-01   \n",
       "50%    3.327371e-02 -4.316262e-02 -3.071142e-02  4.537892e-02 -6.650145e-02   \n",
       "75%    7.166966e-01  7.049591e-01  6.514258e-01  7.187826e-01  6.918194e-01   \n",
       "max    3.038023e+00  2.621608e+00  2.847311e+00  2.739400e+00  2.825830e+00   \n",
       "\n",
       "                f10           f11           f12           f13           f14  \\\n",
       "count  4.000000e+02  4.000000e+02  4.000000e+02  4.000000e+02  4.000000e+02   \n",
       "mean  -3.996803e-17 -2.775558e-17  3.552714e-17  4.440892e-17 -1.776357e-17   \n",
       "std    1.001252e+00  1.001252e+00  1.001252e+00  1.001252e+00  1.001252e+00   \n",
       "min   -2.688761e+00 -2.638690e+00 -3.057853e+00 -2.630710e+00 -3.277049e+00   \n",
       "25%   -6.638184e-01 -6.957960e-01 -6.316507e-01 -6.894649e-01 -6.913151e-01   \n",
       "50%   -8.217790e-03 -4.224086e-02  2.707950e-02  2.211142e-02  1.832381e-02   \n",
       "75%    6.877310e-01  6.875754e-01  7.003019e-01  6.038212e-01  7.098891e-01   \n",
       "max    3.399690e+00  2.843222e+00  2.868617e+00  3.021595e+00  2.532323e+00   \n",
       "\n",
       "                f15           f16           f17           f18           f19  \\\n",
       "count  4.000000e+02  4.000000e+02  4.000000e+02  4.000000e+02  4.000000e+02   \n",
       "mean  -3.552714e-16  2.664535e-17  2.109424e-16 -3.885781e-17  3.286260e-16   \n",
       "std    1.001252e+00  1.001252e+00  1.001252e+00  1.001252e+00  1.001252e+00   \n",
       "min   -3.110809e+00 -2.835288e+00 -2.782867e+00 -3.640569e+00 -3.250875e+00   \n",
       "25%   -6.466926e-01 -7.738073e-01 -6.584388e-01 -6.680523e-01 -6.817377e-01   \n",
       "50%   -7.695655e-02 -3.701459e-02  1.887805e-02 -5.778016e-03  4.212782e-02   \n",
       "75%    6.905250e-01  7.293493e-01  6.730331e-01  6.780294e-01  6.997966e-01   \n",
       "max    2.753429e+00  3.098662e+00  3.140459e+00  2.996974e+00  2.464176e+00   \n",
       "\n",
       "                f20      target  \n",
       "count  4.000000e+02  400.000000  \n",
       "mean  -1.998401e-17   -1.130048  \n",
       "std    1.001252e+00   10.848223  \n",
       "min   -2.795966e+00  -56.422845  \n",
       "25%   -7.561603e-01   -5.335921  \n",
       "50%   -3.483378e-02   -0.510613  \n",
       "75%    6.915907e-01    3.934202  \n",
       "max    2.697927e+00   36.101080  "
      ]
     },
     "execution_count": 24,
     "metadata": {},
     "output_type": "execute_result"
    }
   ],
   "source": [
    "# add column names back\n",
    "train = pd.DataFrame(train, columns=train_cols)\n",
    "test = pd.DataFrame(test, columns=test_cols)\n",
    "# add target col back\n",
    "train['target'] = train_target\n",
    "# add id col back\n",
    "train['id'] = train_id\n",
    "test['id'] = test_id\n",
    "train.describe()"
   ]
  },
  {
   "cell_type": "markdown",
   "metadata": {},
   "source": [
    "#### XGBoost:"
   ]
  },
  {
   "cell_type": "code",
   "execution_count": 25,
   "metadata": {},
   "outputs": [],
   "source": [
    "# split data into train and test sets\n",
    "X = train.drop(['target', 'id'], axis=1)\n",
    "y = train['target']\n",
    "X_train, X_test, y_train, y_test = train_test_split(X, y, test_size=0.4, random_state=42)"
   ]
  },
  {
   "cell_type": "code",
   "execution_count": 26,
   "metadata": {},
   "outputs": [
    {
     "name": "stdout",
     "output_type": "stream",
     "text": [
      "RMSE: 5.083759023990873\n"
     ]
    }
   ],
   "source": [
    "xgb = XGBRegressor(random_state=42)\n",
    "xgb.fit(X_train, y_train)\n",
    "y_pred = xgb.predict(X_test)\n",
    "mse = mean_squared_error(y_test, y_pred)\n",
    "print('RMSE:', np.sqrt(mse))"
   ]
  },
  {
   "cell_type": "code",
   "execution_count": null,
   "metadata": {},
   "outputs": [],
   "source": [
    "# # grid search on xgb\n",
    "# from sklearn.model_selection import GridSearchCV, RandomizedSearchCV\n",
    "\n",
    "# params = {\n",
    "#     'n_estimators': [100, 200, 300, 400, 500],\n",
    "#     'learning_rate': [0.01, 0.1, 0.2],\n",
    "#     'max_depth': [1, 2, 3, 4, 5],\n",
    "#     'min_child_weight': [1, 2, 3],\n",
    "#     'gamma': [0, 0.1, 0.2],\n",
    "#     'subsample': [0.5, 0.75, 1],\n",
    "#     'colsample_bytree': [0.5, 0.75, 1],\n",
    "#     'reg_alpha': [0, 0.1, 0.2],\n",
    "#     'reg_lambda': [0, 0.1, 0.2]\n",
    "# }\n",
    "# grid = GridSearchCV(estimator=xgb, param_grid=params, scoring='neg_mean_squared_error', cv=5, verbose=1)\n",
    "# # grid = RandomizedSearchCV(estimator=xgb, param_distributions=params, scoring='neg_mean_squared_error', cv=5, verbose=1)\n",
    "# grid.fit(X_train, y_train)\n",
    "# print(grid.best_params_)\n",
    "# print(grid.best_score_)\n",
    "# best_xgb = grid.best_estimator_\n",
    "# y_pred = best_xgb.predict(X_test)\n",
    "# mse = mean_squared_error(y_test, y_pred)\n",
    "# print('MSE:', mse)"
   ]
  },
  {
   "cell_type": "code",
   "execution_count": 27,
   "metadata": {},
   "outputs": [
    {
     "name": "stdout",
     "output_type": "stream",
     "text": [
      "RMSE: 2.421711100857374\n"
     ]
    }
   ],
   "source": [
    "xgb_best_so_far = XGBRegressor(n_estimators=500, learning_rate=0.2, max_depth=1, min_child_weight=1, gamma=0.1, random_state=42)\n",
    "xgb_best_so_far.fit(X_train, y_train)\n",
    "y_pred = xgb_best_so_far.predict(X_test)\n",
    "mse = mean_squared_error(y_test, y_pred)\n",
    "print('RMSE:', np.sqrt(mse))"
   ]
  },
  {
   "cell_type": "markdown",
   "metadata": {},
   "source": [
    "#### FEATURE ENGINEERING:"
   ]
  },
  {
   "cell_type": "code",
   "execution_count": 28,
   "metadata": {},
   "outputs": [
    {
     "data": {
      "image/png": "[encoded data removed]",
      "text/plain": [
       "<Figure size 640x480 with 1 Axes>"
      ]
     },
     "metadata": {},
     "output_type": "display_data"
    }
   ],
   "source": [
    "# find most important features\n",
    "from xgboost import plot_importance\n",
    "plot_importance(xgb_best_so_far)\n",
    "plt.show()"
   ]
  },
  {
   "cell_type": "code",
   "execution_count": 29,
   "metadata": {},
   "outputs": [
    {
     "name": "stdout",
     "output_type": "stream",
     "text": [
      "RMSE: 1.9698885792473488\n",
      "MSE: 3.8804610146491383\n"
     ]
    }
   ],
   "source": [
    "train_reduced = train[['f4','f5','f1','f3','target']]\n",
    "X = train_reduced.drop(['target'], axis=1)\n",
    "y = train_reduced['target']\n",
    "\n",
    "X_train_reduced, X_test_reduced, y_train_reduced, y_test_reduced = train_test_split(X, y, test_size=0.2, random_state=42)\n",
    "xgb_best_so_far.fit(X_train_reduced, y_train_reduced)\n",
    "y_pred = xgb_best_so_far.predict(X_test_reduced)\n",
    "mse = mean_squared_error(y_test_reduced, y_pred)\n",
    "print('RMSE:', np.sqrt(mse))\n",
    "print('MSE:', mse)"
   ]
  },
  {
   "cell_type": "code",
   "execution_count": null,
   "metadata": {},
   "outputs": [],
   "source": [
    "# plot predictions vs actual\n",
    "plt.scatter(y_test_reduced, y_pred)\n",
    "plt.xlabel('Actual')\n",
    "plt.ylabel('Predicted')\n",
    "plt.show()"
   ]
  },
  {
   "cell_type": "code",
   "execution_count": 30,
   "metadata": {},
   "outputs": [
    {
     "data": {
      "text/html": [
       "<div>\n",
       "<style scoped>\n",
       "    .dataframe tbody tr th:only-of-type {\n",
       "        vertical-align: middle;\n",
       "    }\n",
       "\n",
       "    .dataframe tbody tr th {\n",
       "        vertical-align: top;\n",
       "    }\n",
       "\n",
       "    .dataframe thead th {\n",
       "        text-align: right;\n",
       "    }\n",
       "</style>\n",
       "<table border=\"1\" class=\"dataframe\">\n",
       "  <thead>\n",
       "    <tr style=\"text-align: right;\">\n",
       "      <th></th>\n",
       "      <th>id</th>\n",
       "      <th>target</th>\n",
       "    </tr>\n",
       "  </thead>\n",
       "  <tbody>\n",
       "    <tr>\n",
       "      <th>0</th>\n",
       "      <td>401</td>\n",
       "      <td>-37.279144</td>\n",
       "    </tr>\n",
       "    <tr>\n",
       "      <th>1</th>\n",
       "      <td>402</td>\n",
       "      <td>-8.643074</td>\n",
       "    </tr>\n",
       "    <tr>\n",
       "      <th>2</th>\n",
       "      <td>403</td>\n",
       "      <td>-0.516774</td>\n",
       "    </tr>\n",
       "    <tr>\n",
       "      <th>3</th>\n",
       "      <td>404</td>\n",
       "      <td>-4.730848</td>\n",
       "    </tr>\n",
       "    <tr>\n",
       "      <th>4</th>\n",
       "      <td>405</td>\n",
       "      <td>2.951321</td>\n",
       "    </tr>\n",
       "    <tr>\n",
       "      <th>...</th>\n",
       "      <td>...</td>\n",
       "      <td>...</td>\n",
       "    </tr>\n",
       "    <tr>\n",
       "      <th>795</th>\n",
       "      <td>1196</td>\n",
       "      <td>1.107090</td>\n",
       "    </tr>\n",
       "    <tr>\n",
       "      <th>796</th>\n",
       "      <td>1197</td>\n",
       "      <td>1.066249</td>\n",
       "    </tr>\n",
       "    <tr>\n",
       "      <th>797</th>\n",
       "      <td>1198</td>\n",
       "      <td>21.981838</td>\n",
       "    </tr>\n",
       "    <tr>\n",
       "      <th>798</th>\n",
       "      <td>1199</td>\n",
       "      <td>-0.164947</td>\n",
       "    </tr>\n",
       "    <tr>\n",
       "      <th>799</th>\n",
       "      <td>1200</td>\n",
       "      <td>-3.142720</td>\n",
       "    </tr>\n",
       "  </tbody>\n",
       "</table>\n",
       "<p>800 rows × 2 columns</p>\n",
       "</div>"
      ],
      "text/plain": [
       "       id     target\n",
       "0     401 -37.279144\n",
       "1     402  -8.643074\n",
       "2     403  -0.516774\n",
       "3     404  -4.730848\n",
       "4     405   2.951321\n",
       "..    ...        ...\n",
       "795  1196   1.107090\n",
       "796  1197   1.066249\n",
       "797  1198  21.981838\n",
       "798  1199  -0.164947\n",
       "799  1200  -3.142720\n",
       "\n",
       "[800 rows x 2 columns]"
      ]
     },
     "execution_count": 30,
     "metadata": {},
     "output_type": "execute_result"
    }
   ],
   "source": [
    "# predict test set and save to csv with ID, target\n",
    "test_reduced = test[['id', 'f4','f5','f1','f3']]\n",
    "test_reduced = test_reduced.drop(['id'], axis=1)\n",
    "predictions = xgb_best_so_far.predict(test_reduced)\n",
    "predictions = pd.DataFrame(predictions, columns=['target'])\n",
    "predictions = pd.concat([test, predictions], axis=1)\n",
    "# predictions = predictions[['target']]\n",
    "predictions = predictions[['id', 'target']]\n",
    "predictions"
   ]
  },
  {
   "cell_type": "code",
   "execution_count": null,
   "metadata": {},
   "outputs": [],
   "source": [
    "# drop the 2nd column using its id\n",
    "predictions = predictions.drop([predictions.index[1]])\n",
    "predictions"
   ]
  },
  {
   "cell_type": "code",
   "execution_count": null,
   "metadata": {},
   "outputs": [],
   "source": [
    "predictions.to_csv('data/kaggle_submission_bova_4.csv', index=False)"
   ]
  },
  {
   "cell_type": "markdown",
   "metadata": {},
   "source": [
    "---"
   ]
  },
  {
   "cell_type": "markdown",
   "metadata": {},
   "source": [
    "## Neural Network"
   ]
  },
  {
   "cell_type": "code",
   "execution_count": null,
   "metadata": {},
   "outputs": [],
   "source": [
    "# # tensorflow regression neural network\n",
    "# import tensorflow as tf\n",
    "# from tensorflow import keras\n",
    "# from tensorflow.keras import layers\n",
    "# from tensorflow.keras import regularizers\n",
    "\n",
    "# # split data into train and test sets\n",
    "# X = train.drop(['target', 'id'], axis=1)\n",
    "# y = train['target']\n",
    "# X_train, X_test, y_train, y_test = train_test_split(X, y, test_size=0.4, random_state=42)\n",
    "\n",
    "# model = keras.Sequential([\n",
    "#     layers.Dense(64, activation='relu', kernel_regularizer=regularizers.l2(0.001)),\n",
    "#     layers.Dense(64, activation='relu', kernel_regularizer=regularizers.l2(0.001)),\n",
    "#     layers.Dense(64, activation='relu', kernel_regularizer=regularizers.l2(0.001)),\n",
    "#     layers.Dense(1)\n",
    "# ])\n",
    "\n",
    "# model.compile(optimizer='adam', loss='mse', metrics=['mae'])\n",
    "# history = model.fit(X_train, y_train, validation_split=0.2, epochs=100, verbose=1)\n",
    "\n",
    "# # plot mse\n",
    "# plt.plot(history.history['loss'])\n",
    "# plt.plot(history.history['val_loss'])\n",
    "# plt.title('Model MSE')\n",
    "# plt.ylabel('MSE')\n",
    "# plt.xlabel('Epoch')\n",
    "# plt.legend(['Train', 'Validation'], loc='upper right')\n",
    "# plt.show()"
   ]
  }
 ],
 "metadata": {
  "kernelspec": {
   "display_name": "aispace",
   "language": "python",
   "name": "python3"
  },
  "language_info": {
   "codemirror_mode": {
    "name": "ipython",
    "version": 3
   },
   "file_extension": ".py",
   "mimetype": "text/x-python",
   "name": "python",
   "nbconvert_exporter": "python",
   "pygments_lexer": "ipython3",
   "version": "3.9.18"
  }
 },
 "nbformat": 4,
 "nbformat_minor": 2
}
