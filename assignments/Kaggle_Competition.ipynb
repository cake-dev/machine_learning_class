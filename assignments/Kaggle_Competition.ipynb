{
 "cells": [
  {
   "cell_type": "code",
   "execution_count": 1,
   "metadata": {},
   "outputs": [],
   "source": [
    "import pandas as pd\n",
    "import numpy as np\n",
    "import matplotlib.pyplot as plt\n",
    "pd.set_option('display.max_columns', None)"
   ]
  },
  {
   "cell_type": "markdown",
   "metadata": {},
   "source": [
    "### CSCI 447 Fall 2023 Kaggle Competition"
   ]
  },
  {
   "cell_type": "code",
   "execution_count": 2,
   "metadata": {},
   "outputs": [],
   "source": [
    "train = pd.read_csv('data/kaggle_train.csv')\n",
    "test = pd.read_csv('data/kaggle_test.csv')\n",
    "# example = pd.read_csv('data/kaggle_example_submission.csv')"
   ]
  },
  {
   "cell_type": "code",
   "execution_count": null,
   "metadata": {},
   "outputs": [],
   "source": [
    "train"
   ]
  },
  {
   "cell_type": "code",
   "execution_count": null,
   "metadata": {},
   "outputs": [],
   "source": [
    "# show features that correlate most with target\n",
    "train.corr()['target'].sort_values(ascending=False)"
   ]
  },
  {
   "cell_type": "markdown",
   "metadata": {},
   "source": [
    "---"
   ]
  },
  {
   "cell_type": "code",
   "execution_count": null,
   "metadata": {},
   "outputs": [],
   "source": [
    "# # Remove features that correlate weakly with target (run this to do that)\n",
    "# train_correlated = train.copy()\n",
    "# train_correlated = train_correlated.drop(['f14', 'f13','f11'], axis=1)\n",
    "\n",
    "# train = train_correlated"
   ]
  },
  {
   "cell_type": "code",
   "execution_count": 3,
   "metadata": {},
   "outputs": [],
   "source": [
    "from xgboost import XGBRegressor\n",
    "from sklearn.model_selection import train_test_split\n",
    "from sklearn.metrics import mean_squared_error\n",
    "from sklearn.model_selection import GridSearchCV"
   ]
  },
  {
   "cell_type": "code",
   "execution_count": null,
   "metadata": {},
   "outputs": [],
   "source": [
    "# get column names to re add after scaling\n",
    "train_cols = train.columns\n",
    "test_cols = test.columns\n",
    "\n",
    "# get target col to re add after scaling\n",
    "train_target = train['target']\n",
    "\n",
    "# get id col to re add after scaling\n",
    "train_id = train['id']\n",
    "test_id = test['id']"
   ]
  },
  {
   "cell_type": "code",
   "execution_count": null,
   "metadata": {},
   "outputs": [],
   "source": [
    "# standardize data\n",
    "from sklearn.preprocessing import StandardScaler\n",
    "scaler1 = StandardScaler()\n",
    "scaler2 = StandardScaler()\n",
    "train = scaler1.fit_transform(train)\n",
    "test = scaler2.fit_transform(test)\n",
    "train"
   ]
  },
  {
   "cell_type": "code",
   "execution_count": null,
   "metadata": {},
   "outputs": [],
   "source": [
    "# add column names back\n",
    "train = pd.DataFrame(train, columns=train_cols)\n",
    "test = pd.DataFrame(test, columns=test_cols)\n",
    "# add target col back\n",
    "train['target'] = train_target\n",
    "# add id col back\n",
    "train['id'] = train_id\n",
    "test['id'] = test_id\n",
    "train"
   ]
  },
  {
   "cell_type": "markdown",
   "metadata": {},
   "source": [
    "#### XGBoost:"
   ]
  },
  {
   "cell_type": "code",
   "execution_count": 4,
   "metadata": {},
   "outputs": [],
   "source": [
    "# split data into train and test sets\n",
    "X = train.drop(['target', 'id'], axis=1)\n",
    "y = train['target']\n",
    "X_train, X_test, y_train, y_test = train_test_split(X, y, test_size=0.25, random_state=42)"
   ]
  },
  {
   "cell_type": "code",
   "execution_count": 5,
   "metadata": {},
   "outputs": [
    {
     "name": "stdout",
     "output_type": "stream",
     "text": [
      "RMSE: 4.106519076284248\n"
     ]
    }
   ],
   "source": [
    "xgb = XGBRegressor(random_state=42)\n",
    "xgb.fit(X_train, y_train)\n",
    "y_pred = xgb.predict(X_test)\n",
    "mse = mean_squared_error(y_test, y_pred)\n",
    "print('RMSE:', np.sqrt(mse))"
   ]
  },
  {
   "cell_type": "code",
   "execution_count": null,
   "metadata": {},
   "outputs": [],
   "source": [
    "# # grid search on xgb\n",
    "# from sklearn.model_selection import GridSearchCV, RandomizedSearchCV\n",
    "\n",
    "# params = {\n",
    "#     'n_estimators': [100, 200, 300, 400, 500],\n",
    "#     'learning_rate': [0.01, 0.1, 0.2],\n",
    "#     'max_depth': [1, 2, 3, 4, 5],\n",
    "#     'min_child_weight': [1, 2, 3],\n",
    "#     'gamma': [0, 0.1, 0.2],\n",
    "#     'subsample': [0.5, 0.75, 1],\n",
    "#     'colsample_bytree': [0.5, 0.75, 1],\n",
    "#     'reg_alpha': [0, 0.1, 0.2],\n",
    "#     'reg_lambda': [0, 0.1, 0.2]\n",
    "# }\n",
    "# grid = GridSearchCV(estimator=xgb, param_grid=params, scoring='neg_mean_squared_error', cv=5, verbose=1)\n",
    "# # grid = RandomizedSearchCV(estimator=xgb, param_distributions=params, scoring='neg_mean_squared_error', cv=5, verbose=1)\n",
    "# grid.fit(X_train, y_train)\n",
    "# print(grid.best_params_)\n",
    "# print(grid.best_score_)\n",
    "# best_xgb = grid.best_estimator_\n",
    "# y_pred = best_xgb.predict(X_test)\n",
    "# mse = mean_squared_error(y_test, y_pred)\n",
    "# print('MSE:', mse)"
   ]
  },
  {
   "cell_type": "code",
   "execution_count": 32,
   "metadata": {},
   "outputs": [
    {
     "name": "stdout",
     "output_type": "stream",
     "text": [
      "RMSE: 3.4335864862510634\n"
     ]
    }
   ],
   "source": [
    "xgb_best_so_far = XGBRegressor(n_estimators=500, learning_rate=0.2, max_depth=1, min_child_weight=1, gamma=0, reg_lambda=0.1, subsample=1, colsample_bytree=0.1, reg_alpha=0, random_state=42)\n",
    "xgb_best_so_far.fit(X_train, y_train)\n",
    "y_pred = xgb_best_so_far.predict(X_test)\n",
    "mse = mean_squared_error(y_test, y_pred)\n",
    "print('RMSE:', np.sqrt(mse))"
   ]
  },
  {
   "cell_type": "markdown",
   "metadata": {},
   "source": [
    "#### FEATURE ENGINEERING:"
   ]
  },
  {
   "cell_type": "code",
   "execution_count": 35,
   "metadata": {},
   "outputs": [
    {
     "data": {
      "image/png": "[encoded data removed]",
      "text/plain": [
       "<Figure size 640x480 with 1 Axes>"
      ]
     },
     "metadata": {},
     "output_type": "display_data"
    }
   ],
   "source": [
    "# find most important features\n",
    "from xgboost import plot_importance\n",
    "plot_importance(xgb_best_so_far)\n",
    "plt.show()"
   ]
  },
  {
   "cell_type": "code",
   "execution_count": 34,
   "metadata": {},
   "outputs": [
    {
     "name": "stdout",
     "output_type": "stream",
     "text": [
      "RMSE: 2.392757130421153\n",
      "MSE: 5.7252866851812705\n"
     ]
    }
   ],
   "source": [
    "train_reduced = train[['f4','f5','f1','f3','target']]\n",
    "\n",
    "X = train_reduced.drop(['target'], axis=1)\n",
    "y = train_reduced['target']\n",
    "\n",
    "# add some polynomial features\n",
    "# X['f1f3'] = X['f1'] * X['f3']\n",
    "\n",
    "X_train_reduced, X_test_reduced, y_train_reduced, y_test_reduced = train_test_split(X, y, test_size=0.1, random_state=42)\n",
    "xgb_best_so_far.fit(X_train_reduced, y_train_reduced)\n",
    "y_pred = xgb_best_so_far.predict(X_test_reduced)\n",
    "mse = mean_squared_error(y_test_reduced, y_pred)\n",
    "print('RMSE:', np.sqrt(mse))\n",
    "print('MSE:', mse)"
   ]
  },
  {
   "cell_type": "code",
   "execution_count": 36,
   "metadata": {},
   "outputs": [
    {
     "data": {
      "image/png": "[encoded data removed]",
      "text/plain": [
       "<Figure size 640x480 with 1 Axes>"
      ]
     },
     "metadata": {},
     "output_type": "display_data"
    }
   ],
   "source": [
    "# plot predictions vs actual\n",
    "plt.scatter(y_test_reduced, y_pred)\n",
    "plt.xlabel('Actual')\n",
    "plt.ylabel('Predicted')\n",
    "plt.show()"
   ]
  },
  {
   "cell_type": "code",
   "execution_count": 37,
   "metadata": {},
   "outputs": [
    {
     "data": {
      "text/html": [
       "<div>\n",
       "<style scoped>\n",
       "    .dataframe tbody tr th:only-of-type {\n",
       "        vertical-align: middle;\n",
       "    }\n",
       "\n",
       "    .dataframe tbody tr th {\n",
       "        vertical-align: top;\n",
       "    }\n",
       "\n",
       "    .dataframe thead th {\n",
       "        text-align: right;\n",
       "    }\n",
       "</style>\n",
       "<table border=\"1\" class=\"dataframe\">\n",
       "  <thead>\n",
       "    <tr style=\"text-align: right;\">\n",
       "      <th></th>\n",
       "      <th>id</th>\n",
       "      <th>target</th>\n",
       "    </tr>\n",
       "  </thead>\n",
       "  <tbody>\n",
       "    <tr>\n",
       "      <th>0</th>\n",
       "      <td>401</td>\n",
       "      <td>-38.133633</td>\n",
       "    </tr>\n",
       "    <tr>\n",
       "      <th>1</th>\n",
       "      <td>402</td>\n",
       "      <td>-8.371725</td>\n",
       "    </tr>\n",
       "    <tr>\n",
       "      <th>2</th>\n",
       "      <td>403</td>\n",
       "      <td>-0.457441</td>\n",
       "    </tr>\n",
       "    <tr>\n",
       "      <th>3</th>\n",
       "      <td>404</td>\n",
       "      <td>-3.337665</td>\n",
       "    </tr>\n",
       "    <tr>\n",
       "      <th>4</th>\n",
       "      <td>405</td>\n",
       "      <td>2.513625</td>\n",
       "    </tr>\n",
       "    <tr>\n",
       "      <th>...</th>\n",
       "      <td>...</td>\n",
       "      <td>...</td>\n",
       "    </tr>\n",
       "    <tr>\n",
       "      <th>795</th>\n",
       "      <td>1196</td>\n",
       "      <td>1.525748</td>\n",
       "    </tr>\n",
       "    <tr>\n",
       "      <th>796</th>\n",
       "      <td>1197</td>\n",
       "      <td>1.854572</td>\n",
       "    </tr>\n",
       "    <tr>\n",
       "      <th>797</th>\n",
       "      <td>1198</td>\n",
       "      <td>24.373205</td>\n",
       "    </tr>\n",
       "    <tr>\n",
       "      <th>798</th>\n",
       "      <td>1199</td>\n",
       "      <td>-2.109998</td>\n",
       "    </tr>\n",
       "    <tr>\n",
       "      <th>799</th>\n",
       "      <td>1200</td>\n",
       "      <td>-3.005006</td>\n",
       "    </tr>\n",
       "  </tbody>\n",
       "</table>\n",
       "<p>800 rows × 2 columns</p>\n",
       "</div>"
      ],
      "text/plain": [
       "       id     target\n",
       "0     401 -38.133633\n",
       "1     402  -8.371725\n",
       "2     403  -0.457441\n",
       "3     404  -3.337665\n",
       "4     405   2.513625\n",
       "..    ...        ...\n",
       "795  1196   1.525748\n",
       "796  1197   1.854572\n",
       "797  1198  24.373205\n",
       "798  1199  -2.109998\n",
       "799  1200  -3.005006\n",
       "\n",
       "[800 rows x 2 columns]"
      ]
     },
     "execution_count": 37,
     "metadata": {},
     "output_type": "execute_result"
    }
   ],
   "source": [
    "# predict test set and save to csv with ID, target\n",
    "test_reduced = test[['id', 'f4','f5','f1','f3']]\n",
    "test_reduced = test_reduced.drop(['id'], axis=1)\n",
    "predictions = xgb_best_so_far.predict(test_reduced)\n",
    "predictions = pd.DataFrame(predictions, columns=['target'])\n",
    "predictions = pd.concat([test, predictions], axis=1)\n",
    "# predictions = predictions[['target']]\n",
    "predictions = predictions[['id', 'target']]\n",
    "predictions"
   ]
  },
  {
   "cell_type": "code",
   "execution_count": null,
   "metadata": {},
   "outputs": [],
   "source": [
    "predictions.to_csv('data/kaggle_submission_bova_6.csv', index=False)"
   ]
  },
  {
   "cell_type": "markdown",
   "metadata": {},
   "source": [
    "---"
   ]
  },
  {
   "cell_type": "markdown",
   "metadata": {},
   "source": [
    "## GMM"
   ]
  },
  {
   "cell_type": "code",
   "execution_count": null,
   "metadata": {},
   "outputs": [],
   "source": [
    "# gaussian process regressor\n",
    "from sklearn.gaussian_process import GaussianProcessRegressor\n",
    "\n",
    "# [(1.0, SimpleRegressionPipeline({'data_preprocessor:__choice__': 'feature_type', 'feature_preprocessor:__choice__': 'no_preprocessing', 'regressor:__choice__': 'gaussian_process', 'data_preprocessor:feature_type:numerical_transformer:imputation:strategy': 'most_frequent', 'data_preprocessor:feature_type:numerical_transformer:rescaling:__choice__': 'minmax', 'regressor:gaussian_process:alpha': 0.015101741903765523, 'regressor:gaussian_process:thetaL': 1.2894855172471412e-07, 'regressor:gaussian_process:thetaU': 57350.099005831544},\n",
    "# dataset_properties={\n",
    "#   'task': 4,\n",
    "#   'sparse': False,\n",
    "#   'multioutput': False,\n",
    "#   'target_type': 'regression',\n",
    "#   'signed': False}))]\n",
    "\n",
    "from sklearn.gaussian_process.kernels import RBF, ConstantKernel\n",
    "kernel = ConstantKernel() * RBF()\n",
    "gpr = GaussianProcessRegressor(kernel=kernel, random_state=42)\n",
    "gpr.fit(X_train, y_train)\n",
    "y_pred = gpr.predict(X_test)\n",
    "mse = mean_squared_error(y_test, y_pred)\n",
    "print('RMSE:', np.sqrt(mse))"
   ]
  }
 ],
 "metadata": {
  "kernelspec": {
   "display_name": "aispace",
   "language": "python",
   "name": "python3"
  },
  "language_info": {
   "codemirror_mode": {
    "name": "ipython",
    "version": 3
   },
   "file_extension": ".py",
   "mimetype": "text/x-python",
   "name": "python",
   "nbconvert_exporter": "python",
   "pygments_lexer": "ipython3",
   "version": "3.9.18"
  }
 },
 "nbformat": 4,
 "nbformat_minor": 2
}
